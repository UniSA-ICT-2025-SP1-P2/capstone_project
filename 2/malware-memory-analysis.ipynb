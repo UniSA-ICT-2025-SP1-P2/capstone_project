{
 "cells": [
  {
   "cell_type": "code",
   "execution_count": 1,
   "id": "fc1e087f",
   "metadata": {
    "_cell_guid": "b1076dfc-b9ad-4769-8c92-a6c4dae69d19",
    "_uuid": "8f2839f25d086af736a60e9eeb907d3b93b6e0e5",
    "execution": {
     "iopub.execute_input": "2023-08-12T17:17:58.883473Z",
     "iopub.status.busy": "2023-08-12T17:17:58.882573Z",
     "iopub.status.idle": "2023-08-12T17:17:58.909224Z",
     "shell.execute_reply": "2023-08-12T17:17:58.906490Z"
    },
    "papermill": {
     "duration": 0.04324,
     "end_time": "2023-08-12T17:17:58.912057",
     "exception": false,
     "start_time": "2023-08-12T17:17:58.868817",
     "status": "completed"
    },
    "tags": []
   },
   "outputs": [
    {
     "name": "stdout",
     "output_type": "stream",
     "text": [
      "/kaggle/input/obfuscated-malware-memory-2022-cic/Obfuscated-MalMem2022.csv\n"
     ]
    }
   ],
   "source": [
    "# This Python 3 environment comes with many helpful analytics libraries installed\n",
    "# It is defined by the kaggle/python Docker image: https://github.com/kaggle/docker-python\n",
    "# For example, here's several helpful packages to load\n",
    "\n",
    "import numpy as np # linear algebra\n",
    "import pandas as pd # data processing, CSV file I/O (e.g. pd.read_csv)\n",
    "\n",
    "# Input data files are available in the read-only \"../input/\" directory\n",
    "# For example, running this (by clicking run or pressing Shift+Enter) will list all files under the input directory\n",
    "\n",
    "import os\n",
    "for dirname, _, filenames in os.walk('/kaggle/input'):\n",
    "    for filename in filenames:\n",
    "        print(os.path.join(dirname, filename))\n",
    "\n",
    "# You can write up to 20GB to the current directory (/kaggle/working/) that gets preserved as output when you create a version using \"Save & Run All\" \n",
    "# You can also write temporary files to /kaggle/temp/, but they won't be saved outside of the current session"
   ]
  },
  {
   "cell_type": "code",
   "execution_count": 2,
   "id": "7e49b783",
   "metadata": {
    "execution": {
     "iopub.execute_input": "2023-08-12T17:17:58.933939Z",
     "iopub.status.busy": "2023-08-12T17:17:58.933163Z",
     "iopub.status.idle": "2023-08-12T17:17:59.565352Z",
     "shell.execute_reply": "2023-08-12T17:17:59.564245Z"
    },
    "papermill": {
     "duration": 0.646012,
     "end_time": "2023-08-12T17:17:59.568004",
     "exception": false,
     "start_time": "2023-08-12T17:17:58.921992",
     "status": "completed"
    },
    "tags": []
   },
   "outputs": [],
   "source": [
    "df = pd.read_csv(\"/kaggle/input/obfuscated-malware-memory-2022-cic/Obfuscated-MalMem2022.csv\")"
   ]
  },
  {
   "cell_type": "code",
   "execution_count": 3,
   "id": "43bcc3ef",
   "metadata": {
    "execution": {
     "iopub.execute_input": "2023-08-12T17:17:59.585728Z",
     "iopub.status.busy": "2023-08-12T17:17:59.584840Z",
     "iopub.status.idle": "2023-08-12T17:17:59.619359Z",
     "shell.execute_reply": "2023-08-12T17:17:59.618258Z"
    },
    "papermill": {
     "duration": 0.045711,
     "end_time": "2023-08-12T17:17:59.621678",
     "exception": false,
     "start_time": "2023-08-12T17:17:59.575967",
     "status": "completed"
    },
    "tags": []
   },
   "outputs": [
    {
     "data": {
      "text/html": [
       "<div>\n",
       "<style scoped>\n",
       "    .dataframe tbody tr th:only-of-type {\n",
       "        vertical-align: middle;\n",
       "    }\n",
       "\n",
       "    .dataframe tbody tr th {\n",
       "        vertical-align: top;\n",
       "    }\n",
       "\n",
       "    .dataframe thead th {\n",
       "        text-align: right;\n",
       "    }\n",
       "</style>\n",
       "<table border=\"1\" class=\"dataframe\">\n",
       "  <thead>\n",
       "    <tr style=\"text-align: right;\">\n",
       "      <th></th>\n",
       "      <th>Category</th>\n",
       "      <th>pslist.nproc</th>\n",
       "      <th>pslist.nppid</th>\n",
       "      <th>pslist.avg_threads</th>\n",
       "      <th>pslist.nprocs64bit</th>\n",
       "      <th>pslist.avg_handlers</th>\n",
       "      <th>dlllist.ndlls</th>\n",
       "      <th>dlllist.avg_dlls_per_proc</th>\n",
       "      <th>handles.nhandles</th>\n",
       "      <th>handles.avg_handles_per_proc</th>\n",
       "      <th>...</th>\n",
       "      <th>svcscan.kernel_drivers</th>\n",
       "      <th>svcscan.fs_drivers</th>\n",
       "      <th>svcscan.process_services</th>\n",
       "      <th>svcscan.shared_process_services</th>\n",
       "      <th>svcscan.interactive_process_services</th>\n",
       "      <th>svcscan.nactive</th>\n",
       "      <th>callbacks.ncallbacks</th>\n",
       "      <th>callbacks.nanonymous</th>\n",
       "      <th>callbacks.ngeneric</th>\n",
       "      <th>Class</th>\n",
       "    </tr>\n",
       "  </thead>\n",
       "  <tbody>\n",
       "    <tr>\n",
       "      <th>0</th>\n",
       "      <td>Benign</td>\n",
       "      <td>45</td>\n",
       "      <td>17</td>\n",
       "      <td>10.555556</td>\n",
       "      <td>0</td>\n",
       "      <td>202.844444</td>\n",
       "      <td>1694</td>\n",
       "      <td>38.500000</td>\n",
       "      <td>9129</td>\n",
       "      <td>212.302326</td>\n",
       "      <td>...</td>\n",
       "      <td>221</td>\n",
       "      <td>26</td>\n",
       "      <td>24</td>\n",
       "      <td>116</td>\n",
       "      <td>0</td>\n",
       "      <td>121</td>\n",
       "      <td>87</td>\n",
       "      <td>0</td>\n",
       "      <td>8</td>\n",
       "      <td>Benign</td>\n",
       "    </tr>\n",
       "    <tr>\n",
       "      <th>1</th>\n",
       "      <td>Benign</td>\n",
       "      <td>47</td>\n",
       "      <td>19</td>\n",
       "      <td>11.531915</td>\n",
       "      <td>0</td>\n",
       "      <td>242.234043</td>\n",
       "      <td>2074</td>\n",
       "      <td>44.127660</td>\n",
       "      <td>11385</td>\n",
       "      <td>242.234043</td>\n",
       "      <td>...</td>\n",
       "      <td>222</td>\n",
       "      <td>26</td>\n",
       "      <td>24</td>\n",
       "      <td>118</td>\n",
       "      <td>0</td>\n",
       "      <td>122</td>\n",
       "      <td>87</td>\n",
       "      <td>0</td>\n",
       "      <td>8</td>\n",
       "      <td>Benign</td>\n",
       "    </tr>\n",
       "    <tr>\n",
       "      <th>2</th>\n",
       "      <td>Benign</td>\n",
       "      <td>40</td>\n",
       "      <td>14</td>\n",
       "      <td>14.725000</td>\n",
       "      <td>0</td>\n",
       "      <td>288.225000</td>\n",
       "      <td>1932</td>\n",
       "      <td>48.300000</td>\n",
       "      <td>11529</td>\n",
       "      <td>288.225000</td>\n",
       "      <td>...</td>\n",
       "      <td>222</td>\n",
       "      <td>26</td>\n",
       "      <td>27</td>\n",
       "      <td>118</td>\n",
       "      <td>0</td>\n",
       "      <td>120</td>\n",
       "      <td>88</td>\n",
       "      <td>0</td>\n",
       "      <td>8</td>\n",
       "      <td>Benign</td>\n",
       "    </tr>\n",
       "    <tr>\n",
       "      <th>3</th>\n",
       "      <td>Benign</td>\n",
       "      <td>32</td>\n",
       "      <td>13</td>\n",
       "      <td>13.500000</td>\n",
       "      <td>0</td>\n",
       "      <td>264.281250</td>\n",
       "      <td>1445</td>\n",
       "      <td>45.156250</td>\n",
       "      <td>8457</td>\n",
       "      <td>264.281250</td>\n",
       "      <td>...</td>\n",
       "      <td>222</td>\n",
       "      <td>26</td>\n",
       "      <td>27</td>\n",
       "      <td>118</td>\n",
       "      <td>0</td>\n",
       "      <td>120</td>\n",
       "      <td>88</td>\n",
       "      <td>0</td>\n",
       "      <td>8</td>\n",
       "      <td>Benign</td>\n",
       "    </tr>\n",
       "    <tr>\n",
       "      <th>4</th>\n",
       "      <td>Benign</td>\n",
       "      <td>42</td>\n",
       "      <td>16</td>\n",
       "      <td>11.452381</td>\n",
       "      <td>0</td>\n",
       "      <td>281.333333</td>\n",
       "      <td>2067</td>\n",
       "      <td>49.214286</td>\n",
       "      <td>11816</td>\n",
       "      <td>281.333333</td>\n",
       "      <td>...</td>\n",
       "      <td>222</td>\n",
       "      <td>26</td>\n",
       "      <td>24</td>\n",
       "      <td>118</td>\n",
       "      <td>0</td>\n",
       "      <td>124</td>\n",
       "      <td>87</td>\n",
       "      <td>0</td>\n",
       "      <td>8</td>\n",
       "      <td>Benign</td>\n",
       "    </tr>\n",
       "  </tbody>\n",
       "</table>\n",
       "<p>5 rows × 57 columns</p>\n",
       "</div>"
      ],
      "text/plain": [
       "  Category  pslist.nproc  pslist.nppid  pslist.avg_threads  \\\n",
       "0   Benign            45            17           10.555556   \n",
       "1   Benign            47            19           11.531915   \n",
       "2   Benign            40            14           14.725000   \n",
       "3   Benign            32            13           13.500000   \n",
       "4   Benign            42            16           11.452381   \n",
       "\n",
       "   pslist.nprocs64bit  pslist.avg_handlers  dlllist.ndlls  \\\n",
       "0                   0           202.844444           1694   \n",
       "1                   0           242.234043           2074   \n",
       "2                   0           288.225000           1932   \n",
       "3                   0           264.281250           1445   \n",
       "4                   0           281.333333           2067   \n",
       "\n",
       "   dlllist.avg_dlls_per_proc  handles.nhandles  handles.avg_handles_per_proc  \\\n",
       "0                  38.500000              9129                    212.302326   \n",
       "1                  44.127660             11385                    242.234043   \n",
       "2                  48.300000             11529                    288.225000   \n",
       "3                  45.156250              8457                    264.281250   \n",
       "4                  49.214286             11816                    281.333333   \n",
       "\n",
       "   ...  svcscan.kernel_drivers  svcscan.fs_drivers  svcscan.process_services  \\\n",
       "0  ...                     221                  26                        24   \n",
       "1  ...                     222                  26                        24   \n",
       "2  ...                     222                  26                        27   \n",
       "3  ...                     222                  26                        27   \n",
       "4  ...                     222                  26                        24   \n",
       "\n",
       "   svcscan.shared_process_services  svcscan.interactive_process_services  \\\n",
       "0                              116                                     0   \n",
       "1                              118                                     0   \n",
       "2                              118                                     0   \n",
       "3                              118                                     0   \n",
       "4                              118                                     0   \n",
       "\n",
       "   svcscan.nactive  callbacks.ncallbacks  callbacks.nanonymous  \\\n",
       "0              121                    87                     0   \n",
       "1              122                    87                     0   \n",
       "2              120                    88                     0   \n",
       "3              120                    88                     0   \n",
       "4              124                    87                     0   \n",
       "\n",
       "   callbacks.ngeneric   Class  \n",
       "0                   8  Benign  \n",
       "1                   8  Benign  \n",
       "2                   8  Benign  \n",
       "3                   8  Benign  \n",
       "4                   8  Benign  \n",
       "\n",
       "[5 rows x 57 columns]"
      ]
     },
     "execution_count": 3,
     "metadata": {},
     "output_type": "execute_result"
    }
   ],
   "source": [
    "df.head()"
   ]
  },
  {
   "cell_type": "code",
   "execution_count": 4,
   "id": "0961a553",
   "metadata": {
    "execution": {
     "iopub.execute_input": "2023-08-12T17:17:59.639853Z",
     "iopub.status.busy": "2023-08-12T17:17:59.638921Z",
     "iopub.status.idle": "2023-08-12T17:17:59.645557Z",
     "shell.execute_reply": "2023-08-12T17:17:59.644766Z"
    },
    "papermill": {
     "duration": 0.017714,
     "end_time": "2023-08-12T17:17:59.647507",
     "exception": false,
     "start_time": "2023-08-12T17:17:59.629793",
     "status": "completed"
    },
    "tags": []
   },
   "outputs": [
    {
     "data": {
      "text/plain": [
       "(58596, 57)"
      ]
     },
     "execution_count": 4,
     "metadata": {},
     "output_type": "execute_result"
    }
   ],
   "source": [
    "df.shape"
   ]
  },
  {
   "cell_type": "code",
   "execution_count": 5,
   "id": "ff7d1af6",
   "metadata": {
    "execution": {
     "iopub.execute_input": "2023-08-12T17:17:59.666930Z",
     "iopub.status.busy": "2023-08-12T17:17:59.666166Z",
     "iopub.status.idle": "2023-08-12T17:17:59.711687Z",
     "shell.execute_reply": "2023-08-12T17:17:59.710508Z"
    },
    "papermill": {
     "duration": 0.058237,
     "end_time": "2023-08-12T17:17:59.715133",
     "exception": false,
     "start_time": "2023-08-12T17:17:59.656896",
     "status": "completed"
    },
    "tags": []
   },
   "outputs": [
    {
     "name": "stdout",
     "output_type": "stream",
     "text": [
      "<class 'pandas.core.frame.DataFrame'>\n",
      "RangeIndex: 58596 entries, 0 to 58595\n",
      "Data columns (total 57 columns):\n",
      " #   Column                                  Non-Null Count  Dtype  \n",
      "---  ------                                  --------------  -----  \n",
      " 0   Category                                58596 non-null  object \n",
      " 1   pslist.nproc                            58596 non-null  int64  \n",
      " 2   pslist.nppid                            58596 non-null  int64  \n",
      " 3   pslist.avg_threads                      58596 non-null  float64\n",
      " 4   pslist.nprocs64bit                      58596 non-null  int64  \n",
      " 5   pslist.avg_handlers                     58596 non-null  float64\n",
      " 6   dlllist.ndlls                           58596 non-null  int64  \n",
      " 7   dlllist.avg_dlls_per_proc               58596 non-null  float64\n",
      " 8   handles.nhandles                        58596 non-null  int64  \n",
      " 9   handles.avg_handles_per_proc            58596 non-null  float64\n",
      " 10  handles.nport                           58596 non-null  int64  \n",
      " 11  handles.nfile                           58596 non-null  int64  \n",
      " 12  handles.nevent                          58596 non-null  int64  \n",
      " 13  handles.ndesktop                        58596 non-null  int64  \n",
      " 14  handles.nkey                            58596 non-null  int64  \n",
      " 15  handles.nthread                         58596 non-null  int64  \n",
      " 16  handles.ndirectory                      58596 non-null  int64  \n",
      " 17  handles.nsemaphore                      58596 non-null  int64  \n",
      " 18  handles.ntimer                          58596 non-null  int64  \n",
      " 19  handles.nsection                        58596 non-null  int64  \n",
      " 20  handles.nmutant                         58596 non-null  int64  \n",
      " 21  ldrmodules.not_in_load                  58596 non-null  int64  \n",
      " 22  ldrmodules.not_in_init                  58596 non-null  int64  \n",
      " 23  ldrmodules.not_in_mem                   58596 non-null  int64  \n",
      " 24  ldrmodules.not_in_load_avg              58596 non-null  float64\n",
      " 25  ldrmodules.not_in_init_avg              58596 non-null  float64\n",
      " 26  ldrmodules.not_in_mem_avg               58596 non-null  float64\n",
      " 27  malfind.ninjections                     58596 non-null  int64  \n",
      " 28  malfind.commitCharge                    58596 non-null  int64  \n",
      " 29  malfind.protection                      58596 non-null  int64  \n",
      " 30  malfind.uniqueInjections                58596 non-null  float64\n",
      " 31  psxview.not_in_pslist                   58596 non-null  int64  \n",
      " 32  psxview.not_in_eprocess_pool            58596 non-null  int64  \n",
      " 33  psxview.not_in_ethread_pool             58596 non-null  int64  \n",
      " 34  psxview.not_in_pspcid_list              58596 non-null  int64  \n",
      " 35  psxview.not_in_csrss_handles            58596 non-null  int64  \n",
      " 36  psxview.not_in_session                  58596 non-null  int64  \n",
      " 37  psxview.not_in_deskthrd                 58596 non-null  int64  \n",
      " 38  psxview.not_in_pslist_false_avg         58596 non-null  float64\n",
      " 39  psxview.not_in_eprocess_pool_false_avg  58596 non-null  float64\n",
      " 40  psxview.not_in_ethread_pool_false_avg   58596 non-null  float64\n",
      " 41  psxview.not_in_pspcid_list_false_avg    58596 non-null  float64\n",
      " 42  psxview.not_in_csrss_handles_false_avg  58596 non-null  float64\n",
      " 43  psxview.not_in_session_false_avg        58596 non-null  float64\n",
      " 44  psxview.not_in_deskthrd_false_avg       58596 non-null  float64\n",
      " 45  modules.nmodules                        58596 non-null  int64  \n",
      " 46  svcscan.nservices                       58596 non-null  int64  \n",
      " 47  svcscan.kernel_drivers                  58596 non-null  int64  \n",
      " 48  svcscan.fs_drivers                      58596 non-null  int64  \n",
      " 49  svcscan.process_services                58596 non-null  int64  \n",
      " 50  svcscan.shared_process_services         58596 non-null  int64  \n",
      " 51  svcscan.interactive_process_services    58596 non-null  int64  \n",
      " 52  svcscan.nactive                         58596 non-null  int64  \n",
      " 53  callbacks.ncallbacks                    58596 non-null  int64  \n",
      " 54  callbacks.nanonymous                    58596 non-null  int64  \n",
      " 55  callbacks.ngeneric                      58596 non-null  int64  \n",
      " 56  Class                                   58596 non-null  object \n",
      "dtypes: float64(15), int64(40), object(2)\n",
      "memory usage: 25.5+ MB\n"
     ]
    }
   ],
   "source": [
    "df.info()"
   ]
  },
  {
   "cell_type": "code",
   "execution_count": 6,
   "id": "73ef27e6",
   "metadata": {
    "execution": {
     "iopub.execute_input": "2023-08-12T17:17:59.734889Z",
     "iopub.status.busy": "2023-08-12T17:17:59.734082Z",
     "iopub.status.idle": "2023-08-12T17:17:59.764126Z",
     "shell.execute_reply": "2023-08-12T17:17:59.763079Z"
    },
    "papermill": {
     "duration": 0.041771,
     "end_time": "2023-08-12T17:17:59.766459",
     "exception": false,
     "start_time": "2023-08-12T17:17:59.724688",
     "status": "completed"
    },
    "tags": []
   },
   "outputs": [
    {
     "data": {
      "text/plain": [
       "Category                                  0\n",
       "pslist.nproc                              0\n",
       "pslist.nppid                              0\n",
       "pslist.avg_threads                        0\n",
       "pslist.nprocs64bit                        0\n",
       "pslist.avg_handlers                       0\n",
       "dlllist.ndlls                             0\n",
       "dlllist.avg_dlls_per_proc                 0\n",
       "handles.nhandles                          0\n",
       "handles.avg_handles_per_proc              0\n",
       "handles.nport                             0\n",
       "handles.nfile                             0\n",
       "handles.nevent                            0\n",
       "handles.ndesktop                          0\n",
       "handles.nkey                              0\n",
       "handles.nthread                           0\n",
       "handles.ndirectory                        0\n",
       "handles.nsemaphore                        0\n",
       "handles.ntimer                            0\n",
       "handles.nsection                          0\n",
       "handles.nmutant                           0\n",
       "ldrmodules.not_in_load                    0\n",
       "ldrmodules.not_in_init                    0\n",
       "ldrmodules.not_in_mem                     0\n",
       "ldrmodules.not_in_load_avg                0\n",
       "ldrmodules.not_in_init_avg                0\n",
       "ldrmodules.not_in_mem_avg                 0\n",
       "malfind.ninjections                       0\n",
       "malfind.commitCharge                      0\n",
       "malfind.protection                        0\n",
       "malfind.uniqueInjections                  0\n",
       "psxview.not_in_pslist                     0\n",
       "psxview.not_in_eprocess_pool              0\n",
       "psxview.not_in_ethread_pool               0\n",
       "psxview.not_in_pspcid_list                0\n",
       "psxview.not_in_csrss_handles              0\n",
       "psxview.not_in_session                    0\n",
       "psxview.not_in_deskthrd                   0\n",
       "psxview.not_in_pslist_false_avg           0\n",
       "psxview.not_in_eprocess_pool_false_avg    0\n",
       "psxview.not_in_ethread_pool_false_avg     0\n",
       "psxview.not_in_pspcid_list_false_avg      0\n",
       "psxview.not_in_csrss_handles_false_avg    0\n",
       "psxview.not_in_session_false_avg          0\n",
       "psxview.not_in_deskthrd_false_avg         0\n",
       "modules.nmodules                          0\n",
       "svcscan.nservices                         0\n",
       "svcscan.kernel_drivers                    0\n",
       "svcscan.fs_drivers                        0\n",
       "svcscan.process_services                  0\n",
       "svcscan.shared_process_services           0\n",
       "svcscan.interactive_process_services      0\n",
       "svcscan.nactive                           0\n",
       "callbacks.ncallbacks                      0\n",
       "callbacks.nanonymous                      0\n",
       "callbacks.ngeneric                        0\n",
       "Class                                     0\n",
       "dtype: int64"
      ]
     },
     "execution_count": 6,
     "metadata": {},
     "output_type": "execute_result"
    }
   ],
   "source": [
    "df.isnull().sum()"
   ]
  },
  {
   "cell_type": "code",
   "execution_count": 7,
   "id": "abaa267c",
   "metadata": {
    "execution": {
     "iopub.execute_input": "2023-08-12T17:17:59.785755Z",
     "iopub.status.busy": "2023-08-12T17:17:59.784747Z",
     "iopub.status.idle": "2023-08-12T17:17:59.811087Z",
     "shell.execute_reply": "2023-08-12T17:17:59.810076Z"
    },
    "papermill": {
     "duration": 0.038471,
     "end_time": "2023-08-12T17:17:59.813503",
     "exception": false,
     "start_time": "2023-08-12T17:17:59.775032",
     "status": "completed"
    },
    "tags": []
   },
   "outputs": [
    {
     "data": {
      "text/plain": [
       "Benign                                                                                     29298\n",
       "Spyware-Gator-1bdcd3b777965f67678748d2577b119a275aca9aed9549d45e64e692a54a7b5e-1.raw           2\n",
       "Spyware-Gator-1bfb316482877ee42e5a5078fef44c0eb51bc44c1e88ecbccd02ce4dc4694bd3-2.raw           2\n",
       "Spyware-Gator-1bfb316482877ee42e5a5078fef44c0eb51bc44c1e88ecbccd02ce4dc4694bd3-10.raw          2\n",
       "Spyware-Gator-1bfb316482877ee42e5a5078fef44c0eb51bc44c1e88ecbccd02ce4dc4694bd3-1.raw           2\n",
       "                                                                                           ...  \n",
       "Spyware-Gator-0b25829d15dc951a44e7652fc6de9d936d7d51f29586d56dbf8fccea419252ac-6.raw           1\n",
       "Spyware-Gator-0b25829d15dc951a44e7652fc6de9d936d7d51f29586d56dbf8fccea419252ac-5.raw           1\n",
       "Spyware-Gator-0b25829d15dc951a44e7652fc6de9d936d7d51f29586d56dbf8fccea419252ac-4.raw           1\n",
       "Spyware-Gator-0b25829d15dc951a44e7652fc6de9d936d7d51f29586d56dbf8fccea419252ac-3.raw           1\n",
       "Ransomware-Shade-955d9af38346c1755527bd196668edfad6d3f001d217b04d2380eb99e0760585-8.raw        1\n",
       "Name: Category, Length: 28346, dtype: int64"
      ]
     },
     "execution_count": 7,
     "metadata": {},
     "output_type": "execute_result"
    }
   ],
   "source": [
    "df[\"Category\"].value_counts()"
   ]
  },
  {
   "cell_type": "code",
   "execution_count": 8,
   "id": "5c75ab93",
   "metadata": {
    "execution": {
     "iopub.execute_input": "2023-08-12T17:17:59.833743Z",
     "iopub.status.busy": "2023-08-12T17:17:59.832611Z",
     "iopub.status.idle": "2023-08-12T17:17:59.837946Z",
     "shell.execute_reply": "2023-08-12T17:17:59.836834Z"
    },
    "papermill": {
     "duration": 0.017649,
     "end_time": "2023-08-12T17:17:59.840116",
     "exception": false,
     "start_time": "2023-08-12T17:17:59.822467",
     "status": "completed"
    },
    "tags": []
   },
   "outputs": [],
   "source": [
    "def find_category(column):\n",
    "    if \"-\" in column:\n",
    "        category = column.split(\"-\")[0]\n",
    "        return category\n",
    "    else:\n",
    "        return column"
   ]
  },
  {
   "cell_type": "code",
   "execution_count": 9,
   "id": "908d5451",
   "metadata": {
    "execution": {
     "iopub.execute_input": "2023-08-12T17:17:59.859659Z",
     "iopub.status.busy": "2023-08-12T17:17:59.858671Z",
     "iopub.status.idle": "2023-08-12T17:17:59.863242Z",
     "shell.execute_reply": "2023-08-12T17:17:59.862543Z"
    },
    "papermill": {
     "duration": 0.016227,
     "end_time": "2023-08-12T17:17:59.865084",
     "exception": false,
     "start_time": "2023-08-12T17:17:59.848857",
     "status": "completed"
    },
    "tags": []
   },
   "outputs": [],
   "source": [
    "def find_category_name(column):\n",
    "    if \"-\" in column:\n",
    "        category_name = column.split(\"-\")[1]\n",
    "        return category_name\n",
    "    else:\n",
    "        return column"
   ]
  },
  {
   "cell_type": "code",
   "execution_count": 10,
   "id": "9933dd06",
   "metadata": {
    "execution": {
     "iopub.execute_input": "2023-08-12T17:17:59.884586Z",
     "iopub.status.busy": "2023-08-12T17:17:59.883957Z",
     "iopub.status.idle": "2023-08-12T17:17:59.911186Z",
     "shell.execute_reply": "2023-08-12T17:17:59.910065Z"
    },
    "papermill": {
     "duration": 0.040716,
     "end_time": "2023-08-12T17:17:59.914658",
     "exception": false,
     "start_time": "2023-08-12T17:17:59.873942",
     "status": "completed"
    },
    "tags": []
   },
   "outputs": [],
   "source": [
    "df[\"category\"] = df[\"Category\"].apply(find_category)"
   ]
  },
  {
   "cell_type": "code",
   "execution_count": 11,
   "id": "9d2b4ab0",
   "metadata": {
    "execution": {
     "iopub.execute_input": "2023-08-12T17:17:59.934516Z",
     "iopub.status.busy": "2023-08-12T17:17:59.933865Z",
     "iopub.status.idle": "2023-08-12T17:17:59.945742Z",
     "shell.execute_reply": "2023-08-12T17:17:59.944856Z"
    },
    "papermill": {
     "duration": 0.023767,
     "end_time": "2023-08-12T17:17:59.947822",
     "exception": false,
     "start_time": "2023-08-12T17:17:59.924055",
     "status": "completed"
    },
    "tags": []
   },
   "outputs": [
    {
     "data": {
      "text/plain": [
       "Benign        29298\n",
       "Spyware       10020\n",
       "Ransomware     9791\n",
       "Trojan         9487\n",
       "Name: category, dtype: int64"
      ]
     },
     "execution_count": 11,
     "metadata": {},
     "output_type": "execute_result"
    }
   ],
   "source": [
    "df[\"category\"].value_counts()"
   ]
  },
  {
   "cell_type": "code",
   "execution_count": 12,
   "id": "d0667d00",
   "metadata": {
    "execution": {
     "iopub.execute_input": "2023-08-12T17:17:59.967535Z",
     "iopub.status.busy": "2023-08-12T17:17:59.967113Z",
     "iopub.status.idle": "2023-08-12T17:18:01.285043Z",
     "shell.execute_reply": "2023-08-12T17:18:01.283880Z"
    },
    "papermill": {
     "duration": 1.330705,
     "end_time": "2023-08-12T17:18:01.287529",
     "exception": false,
     "start_time": "2023-08-12T17:17:59.956824",
     "status": "completed"
    },
    "tags": []
   },
   "outputs": [
    {
     "name": "stderr",
     "output_type": "stream",
     "text": [
      "/opt/conda/lib/python3.10/site-packages/scipy/__init__.py:146: UserWarning: A NumPy version >=1.16.5 and <1.23.0 is required for this version of SciPy (detected version 1.23.5\n",
      "  warnings.warn(f\"A NumPy version >={np_minversion} and <{np_maxversion}\"\n"
     ]
    }
   ],
   "source": [
    "import matplotlib.pyplot as plt\n",
    "import seaborn as sns"
   ]
  },
  {
   "cell_type": "code",
   "execution_count": 13,
   "id": "e9aa3bbb",
   "metadata": {
    "execution": {
     "iopub.execute_input": "2023-08-12T17:18:01.306673Z",
     "iopub.status.busy": "2023-08-12T17:18:01.306278Z",
     "iopub.status.idle": "2023-08-12T17:18:01.589880Z",
     "shell.execute_reply": "2023-08-12T17:18:01.588774Z"
    },
    "papermill": {
     "duration": 0.295566,
     "end_time": "2023-08-12T17:18:01.592040",
     "exception": false,
     "start_time": "2023-08-12T17:18:01.296474",
     "status": "completed"
    },
    "tags": []
   },
   "outputs": [
    {
     "data": {
      "text/plain": [
       "<Axes: xlabel='category', ylabel='count'>"
      ]
     },
     "execution_count": 13,
     "metadata": {},
     "output_type": "execute_result"
    },
    {
     "data": {
      "image/png": "[encoded data removed]",
      "text/plain": [
       "<Figure size 640x480 with 1 Axes>"
      ]
     },
     "metadata": {},
     "output_type": "display_data"
    }
   ],
   "source": [
    "sns.countplot(x=df[\"category\"])"
   ]
  },
  {
   "cell_type": "code",
   "execution_count": 14,
   "id": "26c838da",
   "metadata": {
    "execution": {
     "iopub.execute_input": "2023-08-12T17:18:01.613424Z",
     "iopub.status.busy": "2023-08-12T17:18:01.613003Z",
     "iopub.status.idle": "2023-08-12T17:18:01.774912Z",
     "shell.execute_reply": "2023-08-12T17:18:01.773760Z"
    },
    "papermill": {
     "duration": 0.176044,
     "end_time": "2023-08-12T17:18:01.777705",
     "exception": false,
     "start_time": "2023-08-12T17:18:01.601661",
     "status": "completed"
    },
    "tags": []
   },
   "outputs": [
    {
     "data": {
      "text/plain": [
       "<Axes: ylabel='category'>"
      ]
     },
     "execution_count": 14,
     "metadata": {},
     "output_type": "execute_result"
    },
    {
     "data": {
      "image/png": "[encoded data removed]",
      "text/plain": [
       "<Figure size 640x480 with 1 Axes>"
      ]
     },
     "metadata": {},
     "output_type": "display_data"
    }
   ],
   "source": [
    "df[\"category\"].value_counts().plot(kind=\"pie\", autopct=\"%.2f%%\")"
   ]
  },
  {
   "cell_type": "code",
   "execution_count": 15,
   "id": "aa2f089c",
   "metadata": {
    "execution": {
     "iopub.execute_input": "2023-08-12T17:18:01.814188Z",
     "iopub.status.busy": "2023-08-12T17:18:01.813383Z",
     "iopub.status.idle": "2023-08-12T17:18:01.854379Z",
     "shell.execute_reply": "2023-08-12T17:18:01.853435Z"
    },
    "papermill": {
     "duration": 0.061826,
     "end_time": "2023-08-12T17:18:01.856624",
     "exception": false,
     "start_time": "2023-08-12T17:18:01.794798",
     "status": "completed"
    },
    "tags": []
   },
   "outputs": [],
   "source": [
    "df[\"category_name\"] = df[\"Category\"].apply(find_category_name)"
   ]
  },
  {
   "cell_type": "code",
   "execution_count": 16,
   "id": "4704651f",
   "metadata": {
    "execution": {
     "iopub.execute_input": "2023-08-12T17:18:01.878335Z",
     "iopub.status.busy": "2023-08-12T17:18:01.877721Z",
     "iopub.status.idle": "2023-08-12T17:18:01.889379Z",
     "shell.execute_reply": "2023-08-12T17:18:01.888569Z"
    },
    "papermill": {
     "duration": 0.024556,
     "end_time": "2023-08-12T17:18:01.891212",
     "exception": false,
     "start_time": "2023-08-12T17:18:01.866656",
     "status": "completed"
    },
    "tags": []
   },
   "outputs": [
    {
     "data": {
      "text/plain": [
       "Benign          29298\n",
       "Transponder      2410\n",
       "Gator            2200\n",
       "Shade            2128\n",
       "Ako              2000\n",
       "180solutions     2000\n",
       "CWS              2000\n",
       "Refroso          2000\n",
       "Scar             2000\n",
       "Conti            1988\n",
       "Emotet           1967\n",
       "Maze             1958\n",
       "Zeus             1950\n",
       "Pysa             1717\n",
       "Reconyc          1570\n",
       "TIBS             1410\n",
       "Name: category_name, dtype: int64"
      ]
     },
     "execution_count": 16,
     "metadata": {},
     "output_type": "execute_result"
    }
   ],
   "source": [
    "df[\"category_name\"].value_counts()"
   ]
  },
  {
   "cell_type": "code",
   "execution_count": 17,
   "id": "38c65dee",
   "metadata": {
    "execution": {
     "iopub.execute_input": "2023-08-12T17:18:01.913351Z",
     "iopub.status.busy": "2023-08-12T17:18:01.912650Z",
     "iopub.status.idle": "2023-08-12T17:18:02.239131Z",
     "shell.execute_reply": "2023-08-12T17:18:02.238082Z"
    },
    "papermill": {
     "duration": 0.340303,
     "end_time": "2023-08-12T17:18:02.241506",
     "exception": false,
     "start_time": "2023-08-12T17:18:01.901203",
     "status": "completed"
    },
    "tags": []
   },
   "outputs": [
    {
     "data": {
      "image/png": "[encoded data removed]",
      "text/plain": [
       "<Figure size 640x480 with 1 Axes>"
      ]
     },
     "metadata": {},
     "output_type": "display_data"
    }
   ],
   "source": [
    "plt.figure()\n",
    "sns.countplot(x=df[\"category_name\"])\n",
    "plt.xticks(rotation=90)\n",
    "plt.show()"
   ]
  },
  {
   "cell_type": "code",
   "execution_count": 18,
   "id": "8a995360",
   "metadata": {
    "execution": {
     "iopub.execute_input": "2023-08-12T17:18:02.264585Z",
     "iopub.status.busy": "2023-08-12T17:18:02.263845Z",
     "iopub.status.idle": "2023-08-12T17:18:02.558633Z",
     "shell.execute_reply": "2023-08-12T17:18:02.557430Z"
    },
    "papermill": {
     "duration": 0.309985,
     "end_time": "2023-08-12T17:18:02.562204",
     "exception": false,
     "start_time": "2023-08-12T17:18:02.252219",
     "status": "completed"
    },
    "tags": []
   },
   "outputs": [
    {
     "data": {
      "text/plain": [
       "<Axes: ylabel='category_name'>"
      ]
     },
     "execution_count": 18,
     "metadata": {},
     "output_type": "execute_result"
    },
    {
     "data": {
      "image/png": "[encoded data removed]",
      "text/plain": [
       "<Figure size 640x480 with 1 Axes>"
      ]
     },
     "metadata": {},
     "output_type": "display_data"
    }
   ],
   "source": [
    "df[\"category_name\"].value_counts().plot(kind=\"pie\", autopct=\"%.2f%%\")"
   ]
  },
  {
   "cell_type": "code",
   "execution_count": 19,
   "id": "967a92f1",
   "metadata": {
    "execution": {
     "iopub.execute_input": "2023-08-12T17:18:02.596048Z",
     "iopub.status.busy": "2023-08-12T17:18:02.595653Z",
     "iopub.status.idle": "2023-08-12T17:18:02.734413Z",
     "shell.execute_reply": "2023-08-12T17:18:02.733228Z"
    },
    "papermill": {
     "duration": 0.155406,
     "end_time": "2023-08-12T17:18:02.737462",
     "exception": false,
     "start_time": "2023-08-12T17:18:02.582056",
     "status": "completed"
    },
    "tags": []
   },
   "outputs": [],
   "source": [
    "from sklearn.preprocessing import LabelEncoder\n",
    "\n",
    "def label_encoder(column):\n",
    "    le = LabelEncoder().fit(column)\n",
    "    print(column.name, le.classes_)\n",
    "    return le.transform(column)"
   ]
  },
  {
   "cell_type": "code",
   "execution_count": 20,
   "id": "1d814e03",
   "metadata": {
    "execution": {
     "iopub.execute_input": "2023-08-12T17:18:02.763567Z",
     "iopub.status.busy": "2023-08-12T17:18:02.762703Z",
     "iopub.status.idle": "2023-08-12T17:18:02.811358Z",
     "shell.execute_reply": "2023-08-12T17:18:02.810086Z"
    },
    "papermill": {
     "duration": 0.063874,
     "end_time": "2023-08-12T17:18:02.813561",
     "exception": false,
     "start_time": "2023-08-12T17:18:02.749687",
     "status": "completed"
    },
    "tags": []
   },
   "outputs": [
    {
     "name": "stdout",
     "output_type": "stream",
     "text": [
      "category ['Benign' 'Ransomware' 'Spyware' 'Trojan']\n",
      "category_name ['180solutions' 'Ako' 'Benign' 'CWS' 'Conti' 'Emotet' 'Gator' 'Maze'\n",
      " 'Pysa' 'Reconyc' 'Refroso' 'Scar' 'Shade' 'TIBS' 'Transponder' 'Zeus']\n",
      "Class ['Benign' 'Malware']\n"
     ]
    }
   ],
   "source": [
    "df[\"category\"] = label_encoder(df[\"category\"])\n",
    "df[\"category_name\"] = label_encoder(df[\"category_name\"])\n",
    "df[\"class\"] = label_encoder(df[\"Class\"])"
   ]
  },
  {
   "cell_type": "code",
   "execution_count": 21,
   "id": "66b14612",
   "metadata": {
    "execution": {
     "iopub.execute_input": "2023-08-12T17:18:02.838413Z",
     "iopub.status.busy": "2023-08-12T17:18:02.838002Z",
     "iopub.status.idle": "2023-08-12T17:18:02.853319Z",
     "shell.execute_reply": "2023-08-12T17:18:02.852124Z"
    },
    "papermill": {
     "duration": 0.0303,
     "end_time": "2023-08-12T17:18:02.855544",
     "exception": false,
     "start_time": "2023-08-12T17:18:02.825244",
     "status": "completed"
    },
    "tags": []
   },
   "outputs": [],
   "source": [
    "df.drop([\"Category\", \"Class\"], axis=1, inplace=True)"
   ]
  },
  {
   "cell_type": "code",
   "execution_count": 22,
   "id": "8a52f0b9",
   "metadata": {
    "execution": {
     "iopub.execute_input": "2023-08-12T17:18:02.880177Z",
     "iopub.status.busy": "2023-08-12T17:18:02.879828Z",
     "iopub.status.idle": "2023-08-12T17:18:02.899362Z",
     "shell.execute_reply": "2023-08-12T17:18:02.898596Z"
    },
    "papermill": {
     "duration": 0.033864,
     "end_time": "2023-08-12T17:18:02.901152",
     "exception": false,
     "start_time": "2023-08-12T17:18:02.867288",
     "status": "completed"
    },
    "tags": []
   },
   "outputs": [
    {
     "data": {
      "text/html": [
       "<div>\n",
       "<style scoped>\n",
       "    .dataframe tbody tr th:only-of-type {\n",
       "        vertical-align: middle;\n",
       "    }\n",
       "\n",
       "    .dataframe tbody tr th {\n",
       "        vertical-align: top;\n",
       "    }\n",
       "\n",
       "    .dataframe thead th {\n",
       "        text-align: right;\n",
       "    }\n",
       "</style>\n",
       "<table border=\"1\" class=\"dataframe\">\n",
       "  <thead>\n",
       "    <tr style=\"text-align: right;\">\n",
       "      <th></th>\n",
       "      <th>pslist.nproc</th>\n",
       "      <th>pslist.nppid</th>\n",
       "      <th>pslist.avg_threads</th>\n",
       "      <th>pslist.nprocs64bit</th>\n",
       "      <th>pslist.avg_handlers</th>\n",
       "      <th>dlllist.ndlls</th>\n",
       "      <th>dlllist.avg_dlls_per_proc</th>\n",
       "      <th>handles.nhandles</th>\n",
       "      <th>handles.avg_handles_per_proc</th>\n",
       "      <th>handles.nport</th>\n",
       "      <th>...</th>\n",
       "      <th>svcscan.process_services</th>\n",
       "      <th>svcscan.shared_process_services</th>\n",
       "      <th>svcscan.interactive_process_services</th>\n",
       "      <th>svcscan.nactive</th>\n",
       "      <th>callbacks.ncallbacks</th>\n",
       "      <th>callbacks.nanonymous</th>\n",
       "      <th>callbacks.ngeneric</th>\n",
       "      <th>category</th>\n",
       "      <th>category_name</th>\n",
       "      <th>class</th>\n",
       "    </tr>\n",
       "  </thead>\n",
       "  <tbody>\n",
       "    <tr>\n",
       "      <th>0</th>\n",
       "      <td>45</td>\n",
       "      <td>17</td>\n",
       "      <td>10.555556</td>\n",
       "      <td>0</td>\n",
       "      <td>202.844444</td>\n",
       "      <td>1694</td>\n",
       "      <td>38.500000</td>\n",
       "      <td>9129</td>\n",
       "      <td>212.302326</td>\n",
       "      <td>0</td>\n",
       "      <td>...</td>\n",
       "      <td>24</td>\n",
       "      <td>116</td>\n",
       "      <td>0</td>\n",
       "      <td>121</td>\n",
       "      <td>87</td>\n",
       "      <td>0</td>\n",
       "      <td>8</td>\n",
       "      <td>0</td>\n",
       "      <td>2</td>\n",
       "      <td>0</td>\n",
       "    </tr>\n",
       "    <tr>\n",
       "      <th>1</th>\n",
       "      <td>47</td>\n",
       "      <td>19</td>\n",
       "      <td>11.531915</td>\n",
       "      <td>0</td>\n",
       "      <td>242.234043</td>\n",
       "      <td>2074</td>\n",
       "      <td>44.127660</td>\n",
       "      <td>11385</td>\n",
       "      <td>242.234043</td>\n",
       "      <td>0</td>\n",
       "      <td>...</td>\n",
       "      <td>24</td>\n",
       "      <td>118</td>\n",
       "      <td>0</td>\n",
       "      <td>122</td>\n",
       "      <td>87</td>\n",
       "      <td>0</td>\n",
       "      <td>8</td>\n",
       "      <td>0</td>\n",
       "      <td>2</td>\n",
       "      <td>0</td>\n",
       "    </tr>\n",
       "    <tr>\n",
       "      <th>2</th>\n",
       "      <td>40</td>\n",
       "      <td>14</td>\n",
       "      <td>14.725000</td>\n",
       "      <td>0</td>\n",
       "      <td>288.225000</td>\n",
       "      <td>1932</td>\n",
       "      <td>48.300000</td>\n",
       "      <td>11529</td>\n",
       "      <td>288.225000</td>\n",
       "      <td>0</td>\n",
       "      <td>...</td>\n",
       "      <td>27</td>\n",
       "      <td>118</td>\n",
       "      <td>0</td>\n",
       "      <td>120</td>\n",
       "      <td>88</td>\n",
       "      <td>0</td>\n",
       "      <td>8</td>\n",
       "      <td>0</td>\n",
       "      <td>2</td>\n",
       "      <td>0</td>\n",
       "    </tr>\n",
       "    <tr>\n",
       "      <th>3</th>\n",
       "      <td>32</td>\n",
       "      <td>13</td>\n",
       "      <td>13.500000</td>\n",
       "      <td>0</td>\n",
       "      <td>264.281250</td>\n",
       "      <td>1445</td>\n",
       "      <td>45.156250</td>\n",
       "      <td>8457</td>\n",
       "      <td>264.281250</td>\n",
       "      <td>0</td>\n",
       "      <td>...</td>\n",
       "      <td>27</td>\n",
       "      <td>118</td>\n",
       "      <td>0</td>\n",
       "      <td>120</td>\n",
       "      <td>88</td>\n",
       "      <td>0</td>\n",
       "      <td>8</td>\n",
       "      <td>0</td>\n",
       "      <td>2</td>\n",
       "      <td>0</td>\n",
       "    </tr>\n",
       "    <tr>\n",
       "      <th>4</th>\n",
       "      <td>42</td>\n",
       "      <td>16</td>\n",
       "      <td>11.452381</td>\n",
       "      <td>0</td>\n",
       "      <td>281.333333</td>\n",
       "      <td>2067</td>\n",
       "      <td>49.214286</td>\n",
       "      <td>11816</td>\n",
       "      <td>281.333333</td>\n",
       "      <td>0</td>\n",
       "      <td>...</td>\n",
       "      <td>24</td>\n",
       "      <td>118</td>\n",
       "      <td>0</td>\n",
       "      <td>124</td>\n",
       "      <td>87</td>\n",
       "      <td>0</td>\n",
       "      <td>8</td>\n",
       "      <td>0</td>\n",
       "      <td>2</td>\n",
       "      <td>0</td>\n",
       "    </tr>\n",
       "  </tbody>\n",
       "</table>\n",
       "<p>5 rows × 58 columns</p>\n",
       "</div>"
      ],
      "text/plain": [
       "   pslist.nproc  pslist.nppid  pslist.avg_threads  pslist.nprocs64bit  \\\n",
       "0            45            17           10.555556                   0   \n",
       "1            47            19           11.531915                   0   \n",
       "2            40            14           14.725000                   0   \n",
       "3            32            13           13.500000                   0   \n",
       "4            42            16           11.452381                   0   \n",
       "\n",
       "   pslist.avg_handlers  dlllist.ndlls  dlllist.avg_dlls_per_proc  \\\n",
       "0           202.844444           1694                  38.500000   \n",
       "1           242.234043           2074                  44.127660   \n",
       "2           288.225000           1932                  48.300000   \n",
       "3           264.281250           1445                  45.156250   \n",
       "4           281.333333           2067                  49.214286   \n",
       "\n",
       "   handles.nhandles  handles.avg_handles_per_proc  handles.nport  ...  \\\n",
       "0              9129                    212.302326              0  ...   \n",
       "1             11385                    242.234043              0  ...   \n",
       "2             11529                    288.225000              0  ...   \n",
       "3              8457                    264.281250              0  ...   \n",
       "4             11816                    281.333333              0  ...   \n",
       "\n",
       "   svcscan.process_services  svcscan.shared_process_services  \\\n",
       "0                        24                              116   \n",
       "1                        24                              118   \n",
       "2                        27                              118   \n",
       "3                        27                              118   \n",
       "4                        24                              118   \n",
       "\n",
       "   svcscan.interactive_process_services  svcscan.nactive  \\\n",
       "0                                     0              121   \n",
       "1                                     0              122   \n",
       "2                                     0              120   \n",
       "3                                     0              120   \n",
       "4                                     0              124   \n",
       "\n",
       "   callbacks.ncallbacks  callbacks.nanonymous  callbacks.ngeneric  category  \\\n",
       "0                    87                     0                   8         0   \n",
       "1                    87                     0                   8         0   \n",
       "2                    88                     0                   8         0   \n",
       "3                    88                     0                   8         0   \n",
       "4                    87                     0                   8         0   \n",
       "\n",
       "   category_name  class  \n",
       "0              2      0  \n",
       "1              2      0  \n",
       "2              2      0  \n",
       "3              2      0  \n",
       "4              2      0  \n",
       "\n",
       "[5 rows x 58 columns]"
      ]
     },
     "execution_count": 22,
     "metadata": {},
     "output_type": "execute_result"
    }
   ],
   "source": [
    "df.head()"
   ]
  },
  {
   "cell_type": "code",
   "execution_count": 23,
   "id": "eed237a0",
   "metadata": {
    "execution": {
     "iopub.execute_input": "2023-08-12T17:18:02.928468Z",
     "iopub.status.busy": "2023-08-12T17:18:02.927829Z",
     "iopub.status.idle": "2023-08-12T17:18:02.945038Z",
     "shell.execute_reply": "2023-08-12T17:18:02.943845Z"
    },
    "papermill": {
     "duration": 0.034308,
     "end_time": "2023-08-12T17:18:02.947502",
     "exception": false,
     "start_time": "2023-08-12T17:18:02.913194",
     "status": "completed"
    },
    "tags": []
   },
   "outputs": [],
   "source": [
    "X = df.drop(\"class\", axis=1)\n",
    "y = df[\"class\"]"
   ]
  },
  {
   "cell_type": "code",
   "execution_count": 24,
   "id": "db54d030",
   "metadata": {
    "execution": {
     "iopub.execute_input": "2023-08-12T17:18:02.973083Z",
     "iopub.status.busy": "2023-08-12T17:18:02.972687Z",
     "iopub.status.idle": "2023-08-12T17:18:03.066354Z",
     "shell.execute_reply": "2023-08-12T17:18:03.065237Z"
    },
    "papermill": {
     "duration": 0.109354,
     "end_time": "2023-08-12T17:18:03.068953",
     "exception": false,
     "start_time": "2023-08-12T17:18:02.959599",
     "status": "completed"
    },
    "tags": []
   },
   "outputs": [],
   "source": [
    "from sklearn.preprocessing import StandardScaler\n",
    "\n",
    "ss = StandardScaler()\n",
    "X_scaled = ss.fit_transform(X)"
   ]
  },
  {
   "cell_type": "code",
   "execution_count": 25,
   "id": "8eb53e13",
   "metadata": {
    "execution": {
     "iopub.execute_input": "2023-08-12T17:18:03.095296Z",
     "iopub.status.busy": "2023-08-12T17:18:03.094878Z",
     "iopub.status.idle": "2023-08-12T17:18:03.234296Z",
     "shell.execute_reply": "2023-08-12T17:18:03.233352Z"
    },
    "papermill": {
     "duration": 0.155232,
     "end_time": "2023-08-12T17:18:03.236810",
     "exception": false,
     "start_time": "2023-08-12T17:18:03.081578",
     "status": "completed"
    },
    "tags": []
   },
   "outputs": [],
   "source": [
    "from sklearn.model_selection import train_test_split\n",
    "X_train, X_test, y_train, y_test = train_test_split(X_scaled, y, test_size=0.3, random_state=42)"
   ]
  },
  {
   "cell_type": "code",
   "execution_count": 26,
   "id": "155beb16",
   "metadata": {
    "execution": {
     "iopub.execute_input": "2023-08-12T17:18:03.264416Z",
     "iopub.status.busy": "2023-08-12T17:18:03.263368Z",
     "iopub.status.idle": "2023-08-12T17:18:03.777496Z",
     "shell.execute_reply": "2023-08-12T17:18:03.776593Z"
    },
    "papermill": {
     "duration": 0.529884,
     "end_time": "2023-08-12T17:18:03.779821",
     "exception": false,
     "start_time": "2023-08-12T17:18:03.249937",
     "status": "completed"
    },
    "tags": []
   },
   "outputs": [],
   "source": [
    "from sklearn.linear_model import LogisticRegression\n",
    "from sklearn.neighbors import KNeighborsClassifier\n",
    "from sklearn.svm import SVC\n",
    "from sklearn.tree import DecisionTreeClassifier\n",
    "from sklearn.ensemble import RandomForestClassifier\n",
    "from xgboost import XGBClassifier"
   ]
  },
  {
   "cell_type": "code",
   "execution_count": 27,
   "id": "3d821659",
   "metadata": {
    "execution": {
     "iopub.execute_input": "2023-08-12T17:18:03.805642Z",
     "iopub.status.busy": "2023-08-12T17:18:03.805235Z",
     "iopub.status.idle": "2023-08-12T17:18:03.809632Z",
     "shell.execute_reply": "2023-08-12T17:18:03.808827Z"
    },
    "papermill": {
     "duration": 0.019813,
     "end_time": "2023-08-12T17:18:03.811833",
     "exception": false,
     "start_time": "2023-08-12T17:18:03.792020",
     "status": "completed"
    },
    "tags": []
   },
   "outputs": [],
   "source": [
    "from sklearn.metrics import accuracy_score, f1_score, precision_score, recall_score"
   ]
  },
  {
   "cell_type": "code",
   "execution_count": 28,
   "id": "4973c218",
   "metadata": {
    "execution": {
     "iopub.execute_input": "2023-08-12T17:18:03.837842Z",
     "iopub.status.busy": "2023-08-12T17:18:03.836971Z",
     "iopub.status.idle": "2023-08-12T17:18:03.841827Z",
     "shell.execute_reply": "2023-08-12T17:18:03.840912Z"
    },
    "papermill": {
     "duration": 0.019653,
     "end_time": "2023-08-12T17:18:03.843655",
     "exception": false,
     "start_time": "2023-08-12T17:18:03.824002",
     "status": "completed"
    },
    "tags": []
   },
   "outputs": [],
   "source": [
    "logreg = LogisticRegression()\n",
    "knn = KNeighborsClassifier()\n",
    "svc = SVC()\n",
    "dt = DecisionTreeClassifier()\n",
    "rf = RandomForestClassifier()\n",
    "xgb = XGBClassifier()"
   ]
  },
  {
   "cell_type": "code",
   "execution_count": 29,
   "id": "d99d0e44",
   "metadata": {
    "execution": {
     "iopub.execute_input": "2023-08-12T17:18:03.868897Z",
     "iopub.status.busy": "2023-08-12T17:18:03.868534Z",
     "iopub.status.idle": "2023-08-12T17:18:03.873415Z",
     "shell.execute_reply": "2023-08-12T17:18:03.872395Z"
    },
    "papermill": {
     "duration": 0.019819,
     "end_time": "2023-08-12T17:18:03.875429",
     "exception": false,
     "start_time": "2023-08-12T17:18:03.855610",
     "status": "completed"
    },
    "tags": []
   },
   "outputs": [],
   "source": [
    "clfs = [\n",
    "    (\"Logistic Regression\", logreg),\n",
    "    (\"K-Nearest Neighbors\", knn),\n",
    "    (\"Support Vector\", svc),\n",
    "    (\"Decision Tree\", dt),\n",
    "    (\"Random Forest\", rf),\n",
    "    (\"Extreme Gradient Boosting\", xgb)\n",
    "]"
   ]
  },
  {
   "cell_type": "code",
   "execution_count": 30,
   "id": "7c7ed3f2",
   "metadata": {
    "execution": {
     "iopub.execute_input": "2023-08-12T17:18:03.901592Z",
     "iopub.status.busy": "2023-08-12T17:18:03.900846Z",
     "iopub.status.idle": "2023-08-12T17:18:03.907904Z",
     "shell.execute_reply": "2023-08-12T17:18:03.907123Z"
    },
    "papermill": {
     "duration": 0.022254,
     "end_time": "2023-08-12T17:18:03.909771",
     "exception": false,
     "start_time": "2023-08-12T17:18:03.887517",
     "status": "completed"
    },
    "tags": []
   },
   "outputs": [],
   "source": [
    "scores_df_cols = [\"Model Name\", \"Accuracy Score\", \"F1 Score\", \"Precision Score\", \"Recall Score\"]\n",
    "scores_df = pd.DataFrame(columns=scores_df_cols)"
   ]
  },
  {
   "cell_type": "code",
   "execution_count": 31,
   "id": "aaf829af",
   "metadata": {
    "execution": {
     "iopub.execute_input": "2023-08-12T17:18:03.936630Z",
     "iopub.status.busy": "2023-08-12T17:18:03.935997Z",
     "iopub.status.idle": "2023-08-12T17:18:16.037236Z",
     "shell.execute_reply": "2023-08-12T17:18:16.036158Z"
    },
    "papermill": {
     "duration": 12.118203,
     "end_time": "2023-08-12T17:18:16.039844",
     "exception": false,
     "start_time": "2023-08-12T17:18:03.921641",
     "status": "completed"
    },
    "tags": []
   },
   "outputs": [
    {
     "name": "stderr",
     "output_type": "stream",
     "text": [
      "/tmp/ipykernel_20/2466548902.py:4: FutureWarning: The frame.append method is deprecated and will be removed from pandas in a future version. Use pandas.concat instead.\n",
      "  scores_df = scores_df.append({\n",
      "/tmp/ipykernel_20/2466548902.py:4: FutureWarning: The frame.append method is deprecated and will be removed from pandas in a future version. Use pandas.concat instead.\n",
      "  scores_df = scores_df.append({\n",
      "/tmp/ipykernel_20/2466548902.py:4: FutureWarning: The frame.append method is deprecated and will be removed from pandas in a future version. Use pandas.concat instead.\n",
      "  scores_df = scores_df.append({\n",
      "/tmp/ipykernel_20/2466548902.py:4: FutureWarning: The frame.append method is deprecated and will be removed from pandas in a future version. Use pandas.concat instead.\n",
      "  scores_df = scores_df.append({\n",
      "/tmp/ipykernel_20/2466548902.py:4: FutureWarning: The frame.append method is deprecated and will be removed from pandas in a future version. Use pandas.concat instead.\n",
      "  scores_df = scores_df.append({\n",
      "/tmp/ipykernel_20/2466548902.py:4: FutureWarning: The frame.append method is deprecated and will be removed from pandas in a future version. Use pandas.concat instead.\n",
      "  scores_df = scores_df.append({\n"
     ]
    }
   ],
   "source": [
    "for clf_name, clf in clfs:\n",
    "    clf.fit(X_train, y_train)\n",
    "    y_pred = clf.predict(X_test)\n",
    "    scores_df = scores_df.append({\n",
    "        \"Model Name\": clf_name,\n",
    "        \"Accuracy Score\": accuracy_score(y_test, y_pred),\n",
    "        \"F1 Score\": f1_score(y_test, y_pred),\n",
    "        \"Precision Score\": precision_score(y_test, y_pred),\n",
    "        \"Recall Score\": recall_score(y_test, y_pred)\n",
    "    }, ignore_index=True)"
   ]
  },
  {
   "cell_type": "code",
   "execution_count": 32,
   "id": "77c9a487",
   "metadata": {
    "execution": {
     "iopub.execute_input": "2023-08-12T17:18:16.066853Z",
     "iopub.status.busy": "2023-08-12T17:18:16.065740Z",
     "iopub.status.idle": "2023-08-12T17:18:16.079209Z",
     "shell.execute_reply": "2023-08-12T17:18:16.078531Z"
    },
    "papermill": {
     "duration": 0.029014,
     "end_time": "2023-08-12T17:18:16.081325",
     "exception": false,
     "start_time": "2023-08-12T17:18:16.052311",
     "status": "completed"
    },
    "tags": []
   },
   "outputs": [
    {
     "data": {
      "text/html": [
       "<div>\n",
       "<style scoped>\n",
       "    .dataframe tbody tr th:only-of-type {\n",
       "        vertical-align: middle;\n",
       "    }\n",
       "\n",
       "    .dataframe tbody tr th {\n",
       "        vertical-align: top;\n",
       "    }\n",
       "\n",
       "    .dataframe thead th {\n",
       "        text-align: right;\n",
       "    }\n",
       "</style>\n",
       "<table border=\"1\" class=\"dataframe\">\n",
       "  <thead>\n",
       "    <tr style=\"text-align: right;\">\n",
       "      <th></th>\n",
       "      <th>Model Name</th>\n",
       "      <th>Accuracy Score</th>\n",
       "      <th>F1 Score</th>\n",
       "      <th>Precision Score</th>\n",
       "      <th>Recall Score</th>\n",
       "    </tr>\n",
       "  </thead>\n",
       "  <tbody>\n",
       "    <tr>\n",
       "      <th>0</th>\n",
       "      <td>Logistic Regression</td>\n",
       "      <td>0.999886</td>\n",
       "      <td>0.999887</td>\n",
       "      <td>1.0</td>\n",
       "      <td>0.999773</td>\n",
       "    </tr>\n",
       "    <tr>\n",
       "      <th>1</th>\n",
       "      <td>K-Nearest Neighbors</td>\n",
       "      <td>0.999886</td>\n",
       "      <td>0.999887</td>\n",
       "      <td>1.0</td>\n",
       "      <td>0.999773</td>\n",
       "    </tr>\n",
       "    <tr>\n",
       "      <th>2</th>\n",
       "      <td>Support Vector</td>\n",
       "      <td>1.000000</td>\n",
       "      <td>1.000000</td>\n",
       "      <td>1.0</td>\n",
       "      <td>1.000000</td>\n",
       "    </tr>\n",
       "    <tr>\n",
       "      <th>3</th>\n",
       "      <td>Decision Tree</td>\n",
       "      <td>1.000000</td>\n",
       "      <td>1.000000</td>\n",
       "      <td>1.0</td>\n",
       "      <td>1.000000</td>\n",
       "    </tr>\n",
       "    <tr>\n",
       "      <th>4</th>\n",
       "      <td>Random Forest</td>\n",
       "      <td>1.000000</td>\n",
       "      <td>1.000000</td>\n",
       "      <td>1.0</td>\n",
       "      <td>1.000000</td>\n",
       "    </tr>\n",
       "    <tr>\n",
       "      <th>5</th>\n",
       "      <td>Extreme Gradient Boosting</td>\n",
       "      <td>1.000000</td>\n",
       "      <td>1.000000</td>\n",
       "      <td>1.0</td>\n",
       "      <td>1.000000</td>\n",
       "    </tr>\n",
       "  </tbody>\n",
       "</table>\n",
       "</div>"
      ],
      "text/plain": [
       "                  Model Name  Accuracy Score  F1 Score  Precision Score  \\\n",
       "0        Logistic Regression        0.999886  0.999887              1.0   \n",
       "1        K-Nearest Neighbors        0.999886  0.999887              1.0   \n",
       "2             Support Vector        1.000000  1.000000              1.0   \n",
       "3              Decision Tree        1.000000  1.000000              1.0   \n",
       "4              Random Forest        1.000000  1.000000              1.0   \n",
       "5  Extreme Gradient Boosting        1.000000  1.000000              1.0   \n",
       "\n",
       "   Recall Score  \n",
       "0      0.999773  \n",
       "1      0.999773  \n",
       "2      1.000000  \n",
       "3      1.000000  \n",
       "4      1.000000  \n",
       "5      1.000000  "
      ]
     },
     "execution_count": 32,
     "metadata": {},
     "output_type": "execute_result"
    }
   ],
   "source": [
    "scores_df"
   ]
  },
  {
   "cell_type": "code",
   "execution_count": 33,
   "id": "539a3c63",
   "metadata": {
    "execution": {
     "iopub.execute_input": "2023-08-12T17:18:16.108155Z",
     "iopub.status.busy": "2023-08-12T17:18:16.107516Z",
     "iopub.status.idle": "2023-08-12T17:18:16.113811Z",
     "shell.execute_reply": "2023-08-12T17:18:16.112767Z"
    },
    "papermill": {
     "duration": 0.022396,
     "end_time": "2023-08-12T17:18:16.116156",
     "exception": false,
     "start_time": "2023-08-12T17:18:16.093760",
     "status": "completed"
    },
    "tags": []
   },
   "outputs": [],
   "source": [
    "model_names = scores_df[\"Model Name\"].values\n",
    "accuracy_scores = scores_df[\"Accuracy Score\"].values\n",
    "f1_scores = scores_df[\"F1 Score\"].values\n",
    "precision_scores = scores_df[\"Precision Score\"].values\n",
    "recall_scores = scores_df[\"Recall Score\"].values"
   ]
  },
  {
   "cell_type": "code",
   "execution_count": 34,
   "id": "2bc79ae9",
   "metadata": {
    "execution": {
     "iopub.execute_input": "2023-08-12T17:18:16.143233Z",
     "iopub.status.busy": "2023-08-12T17:18:16.142863Z",
     "iopub.status.idle": "2023-08-12T17:18:16.356868Z",
     "shell.execute_reply": "2023-08-12T17:18:16.355772Z"
    },
    "papermill": {
     "duration": 0.230197,
     "end_time": "2023-08-12T17:18:16.359303",
     "exception": false,
     "start_time": "2023-08-12T17:18:16.129106",
     "status": "completed"
    },
    "tags": []
   },
   "outputs": [
    {
     "data": {
      "image/png": "[encoded data removed]",
      "text/plain": [
       "<Figure size 640x480 with 1 Axes>"
      ]
     },
     "metadata": {},
     "output_type": "display_data"
    }
   ],
   "source": [
    "plt.figure()\n",
    "plt.plot(model_names, accuracy_scores, color=\"red\", marker=\",\")\n",
    "plt.plot(model_names, f1_scores, color=\"blue\", marker=\".\")\n",
    "plt.plot(model_names, precision_scores, color=\"green\", marker=\"*\")\n",
    "plt.plot(model_names, recall_scores, color=\"orange\", marker=\"x\")\n",
    "plt.xticks(rotation=90)\n",
    "plt.show()"
   ]
  },
  {
   "cell_type": "code",
   "execution_count": null,
   "id": "4fb12150",
   "metadata": {
    "papermill": {
     "duration": 0.01294,
     "end_time": "2023-08-12T17:18:16.385882",
     "exception": false,
     "start_time": "2023-08-12T17:18:16.372942",
     "status": "completed"
    },
    "tags": []
   },
   "outputs": [],
   "source": []
  }
 ],
 "metadata": {
  "kernelspec": {
   "display_name": "Python 3",
   "language": "python",
   "name": "python3"
  },
  "language_info": {
   "codemirror_mode": {
    "name": "ipython",
    "version": 3
   },
   "file_extension": ".py",
   "mimetype": "text/x-python",
   "name": "python",
   "nbconvert_exporter": "python",
   "pygments_lexer": "ipython3",
   "version": "3.10.12"
  },
  "papermill": {
   "default_parameters": {},
   "duration": 27.352863,
   "end_time": "2023-08-12T17:18:17.320797",
   "environment_variables": {},
   "exception": null,
   "input_path": "__notebook__.ipynb",
   "output_path": "__notebook__.ipynb",
   "parameters": {},
   "start_time": "2023-08-12T17:17:49.967934",
   "version": "2.4.0"
  }
 },
 "nbformat": 4,
 "nbformat_minor": 5
}
